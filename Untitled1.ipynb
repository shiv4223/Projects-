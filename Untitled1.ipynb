{
 "cells": [
  {
   "cell_type": "code",
   "execution_count": 3,
   "id": "24928acc",
   "metadata": {},
   "outputs": [],
   "source": [
    "import pandas as pd \n",
    "import numpy as np"
   ]
  },
  {
   "cell_type": "code",
   "execution_count": 4,
   "id": "e06c7c27",
   "metadata": {},
   "outputs": [],
   "source": [
    "from sklearn.datasets import fetch_20newsgroups\n",
    "newsgroups_train = fetch_20newsgroups(subset='train')"
   ]
  },
  {
   "cell_type": "code",
   "execution_count": 5,
   "id": "88b91a3b",
   "metadata": {},
   "outputs": [
    {
     "data": {
      "text/plain": [
       "['alt.atheism',\n",
       " 'comp.graphics',\n",
       " 'comp.os.ms-windows.misc',\n",
       " 'comp.sys.ibm.pc.hardware',\n",
       " 'comp.sys.mac.hardware',\n",
       " 'comp.windows.x',\n",
       " 'misc.forsale',\n",
       " 'rec.autos',\n",
       " 'rec.motorcycles',\n",
       " 'rec.sport.baseball',\n",
       " 'rec.sport.hockey',\n",
       " 'sci.crypt',\n",
       " 'sci.electronics',\n",
       " 'sci.med',\n",
       " 'sci.space',\n",
       " 'soc.religion.christian',\n",
       " 'talk.politics.guns',\n",
       " 'talk.politics.mideast',\n",
       " 'talk.politics.misc',\n",
       " 'talk.religion.misc']"
      ]
     },
     "execution_count": 5,
     "metadata": {},
     "output_type": "execute_result"
    }
   ],
   "source": [
    "newsgroups_train.target_names"
   ]
  },
  {
   "cell_type": "code",
   "execution_count": 6,
   "id": "9249c677",
   "metadata": {},
   "outputs": [
    {
     "data": {
      "text/plain": [
       "(11314,)"
      ]
     },
     "execution_count": 6,
     "metadata": {},
     "output_type": "execute_result"
    }
   ],
   "source": [
    "newsgroups_train.target.shape"
   ]
  },
  {
   "cell_type": "code",
   "execution_count": 7,
   "id": "2c7c7304",
   "metadata": {},
   "outputs": [
    {
     "data": {
      "text/plain": [
       "(11314,)"
      ]
     },
     "execution_count": 7,
     "metadata": {},
     "output_type": "execute_result"
    }
   ],
   "source": [
    "newsgroups_train.filenames.shape"
   ]
  },
  {
   "cell_type": "code",
   "execution_count": 8,
   "id": "37c223a6",
   "metadata": {},
   "outputs": [
    {
     "data": {
      "text/plain": [
       "array([7, 4, 4, ..., 3, 1, 8])"
      ]
     },
     "execution_count": 8,
     "metadata": {},
     "output_type": "execute_result"
    }
   ],
   "source": [
    "categories = ['alt.atheism','comp.graphics','comp.os.ms-windows.misc','comp.sys.ibm.pc.hardware',\n",
    " 'comp.sys.mac.hardware','comp.windows.x','misc.forsale','rec.autos','rec.motorcycles',\n",
    " 'rec.sport.baseball','rec.sport.hockey','sci.crypt','sci.electronics','sci.med',\n",
    " 'sci.space','soc.religion.christian','talk.politics.guns','talk.politics.mideast',\n",
    "'talk.politics.misc','talk.religion.misc']\n",
    "\n",
    "\n",
    "train = fetch_20newsgroups(subset='train',categories = categories)\n",
    "test  = fetch_20newsgroups(subset ='test',categories = categories)\n",
    "\n",
    "train.target"
   ]
  },
  {
   "cell_type": "code",
   "execution_count": 9,
   "id": "6a791414",
   "metadata": {},
   "outputs": [
    {
     "data": {
      "text/plain": [
       "179"
      ]
     },
     "execution_count": 9,
     "metadata": {},
     "output_type": "execute_result"
    }
   ],
   "source": [
    "from nltk.tokenize import sent_tokenize, word_tokenize\n",
    "from nltk.corpus import stopwords\n",
    "stops = set(stopwords.words('english'))\n",
    "len(stops)"
   ]
  },
  {
   "cell_type": "code",
   "execution_count": 10,
   "id": "2cfe6b5b",
   "metadata": {},
   "outputs": [
    {
     "data": {
      "text/plain": [
       "7532"
      ]
     },
     "execution_count": 10,
     "metadata": {},
     "output_type": "execute_result"
    }
   ],
   "source": [
    "len(test.data)"
   ]
  },
  {
   "cell_type": "code",
   "execution_count": 11,
   "id": "220184dc",
   "metadata": {},
   "outputs": [],
   "source": [
    "dic = {}\n",
    "numbers = [str(i) for i in range(10000)]\n",
    "for i in range(len(train.data)):\n",
    "    data = train.data[i]\n",
    "    for word in data.split():\n",
    "        if word not in stops and word not in numbers:\n",
    "            dic[word] = dic.get(word,0) + 1"
   ]
  },
  {
   "cell_type": "code",
   "execution_count": 12,
   "id": "74746d1a",
   "metadata": {
    "scrolled": true
   },
   "outputs": [],
   "source": [
    "from operator import itemgetter\n",
    "features = dict(sorted(dic.items(), key = itemgetter(1), reverse = True)[100:15000])"
   ]
  },
  {
   "cell_type": "code",
   "execution_count": 13,
   "id": "dde3497d",
   "metadata": {},
   "outputs": [],
   "source": [
    "zero_data = np.zeros(shape=(len(train.data),len(features.keys())),dtype = int)\n",
    "train_data = pd.DataFrame(zero_data, columns=features.keys())\n",
    "\n",
    "for i in range(len(train.data)):\n",
    "    data = train.data[i]\n",
    "    for word in data.split():\n",
    "        if word in features.keys():\n",
    "            train_data[word][i] += 1\n",
    "            \n",
    "data_train = np.array(train_data)"
   ]
  },
  {
   "cell_type": "code",
   "execution_count": 14,
   "id": "a84c0591",
   "metadata": {},
   "outputs": [],
   "source": [
    "zero_data = np.zeros(shape=(len(test.data),len(features.keys())),dtype = int)\n",
    "test_data = pd.DataFrame(zero_data, columns=features.keys())\n",
    "\n",
    "for i in range(len(test.data)):\n",
    "    data = test.data[i]\n",
    "    for word in data.split():\n",
    "        if word in features.keys():\n",
    "            test_data[word][i] += 1\n",
    "data_test = np.array(test_data)"
   ]
  },
  {
   "cell_type": "code",
   "execution_count": 15,
   "id": "9dcb17e8",
   "metadata": {},
   "outputs": [
    {
     "data": {
      "text/plain": [
       "MultinomialNB(alpha=0.01)"
      ]
     },
     "execution_count": 15,
     "metadata": {},
     "output_type": "execute_result"
    }
   ],
   "source": [
    "from sklearn.naive_bayes import MultinomialNB\n",
    "from sklearn import metrics\n",
    "\n",
    "clf = MultinomialNB(alpha=.01)\n",
    "clf.fit(data_train,train.target)"
   ]
  },
  {
   "cell_type": "code",
   "execution_count": 16,
   "id": "67957f3c",
   "metadata": {},
   "outputs": [],
   "source": [
    "y_test_pred = clf.predict(data_test)\n",
    "y_train_pred = clf.predict(data_train)"
   ]
  },
  {
   "cell_type": "code",
   "execution_count": 17,
   "id": "f07241d6",
   "metadata": {},
   "outputs": [
    {
     "data": {
      "text/plain": [
       "0.7650152751765716"
      ]
     },
     "execution_count": 17,
     "metadata": {},
     "output_type": "execute_result"
    }
   ],
   "source": [
    "metrics.f1_score(test.target, y_test_pred, average='macro')"
   ]
  },
  {
   "cell_type": "code",
   "execution_count": 18,
   "id": "b34af1cc",
   "metadata": {},
   "outputs": [
    {
     "data": {
      "text/plain": [
       "0.9753531680815893"
      ]
     },
     "execution_count": 18,
     "metadata": {},
     "output_type": "execute_result"
    }
   ],
   "source": [
    "metrics.f1_score(train.target, y_train_pred, average='macro')"
   ]
  },
  {
   "cell_type": "markdown",
   "id": "39d28c37",
   "metadata": {},
   "source": [
    "Using Inbuilt "
   ]
  },
  {
   "cell_type": "code",
   "execution_count": 22,
   "id": "0ae3e94a",
   "metadata": {},
   "outputs": [
    {
     "data": {
      "text/plain": [
       "(11314, 130107)"
      ]
     },
     "execution_count": 22,
     "metadata": {},
     "output_type": "execute_result"
    }
   ],
   "source": [
    "from sklearn.feature_extraction.text import TfidfVectorizer\n",
    "vectorizer = TfidfVectorizer()\n",
    "vectors = vectorizer.fit_transform(train.data)\n",
    "vectors.shape"
   ]
  },
  {
   "cell_type": "code",
   "execution_count": 23,
   "id": "d6efda37",
   "metadata": {},
   "outputs": [
    {
     "data": {
      "text/plain": [
       "157.9958458546933"
      ]
     },
     "execution_count": 23,
     "metadata": {},
     "output_type": "execute_result"
    }
   ],
   "source": [
    "vectors.nnz / float(vectors.shape[0])"
   ]
  },
  {
   "cell_type": "code",
   "execution_count": 24,
   "id": "f758792d",
   "metadata": {},
   "outputs": [
    {
     "name": "stdout",
     "output_type": "stream",
     "text": [
      "Test Score: 0.8290659644474043\n",
      "Train Score: 0.9969391754553232\n"
     ]
    }
   ],
   "source": [
    "from sklearn.naive_bayes import MultinomialNB\n",
    "from sklearn import metrics\n",
    "newsgroups_test = fetch_20newsgroups(subset='test',categories=categories)\n",
    "vectors_test = vectorizer.transform(test.data)\n",
    "clf = MultinomialNB(alpha=.01)\n",
    "clf.fit(vectors, train.target)\n",
    "pred = clf.predict(vectors_test)\n",
    "train_pred = clf.predict(vectors)\n",
    "print('Test Score:',metrics.f1_score(test.target, pred, average='macro'))\n",
    "print('Train Score:',metrics.f1_score(train.target,train_pred, average='macro'))"
   ]
  },
  {
   "cell_type": "code",
   "execution_count": null,
   "id": "f943874e",
   "metadata": {},
   "outputs": [],
   "source": []
  }
 ],
 "metadata": {
  "kernelspec": {
   "display_name": "Python 3 (ipykernel)",
   "language": "python",
   "name": "python3"
  },
  "language_info": {
   "codemirror_mode": {
    "name": "ipython",
    "version": 3
   },
   "file_extension": ".py",
   "mimetype": "text/x-python",
   "name": "python",
   "nbconvert_exporter": "python",
   "pygments_lexer": "ipython3",
   "version": "3.10.6"
  }
 },
 "nbformat": 4,
 "nbformat_minor": 5
}
